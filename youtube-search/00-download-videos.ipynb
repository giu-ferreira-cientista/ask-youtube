{
 "cells": [
  {
   "cell_type": "code",
   "execution_count": 1,
   "id": "5f8cc5c8-0b1a-4d6b-a321-3d409aadd17c",
   "metadata": {},
   "outputs": [
    {
     "name": "stdout",
     "output_type": "stream",
     "text": [
      "Collecting git+https://github.com/nficano/pytube.git\n",
      "  Cloning https://github.com/nficano/pytube.git to /tmp/pip-req-build-tkozn3r4\n",
      "  Running command git clone --filter=blob:none --quiet https://github.com/nficano/pytube.git /tmp/pip-req-build-tkozn3r4\n",
      "  Resolved https://github.com/nficano/pytube.git to commit 84faec34c8a66f502ac635a5610445dbff160654\n",
      "  Preparing metadata (setup.py) ... \u001b[?25ldone\n",
      "\u001b[?25h\n",
      "\u001b[1m[\u001b[0m\u001b[34;49mnotice\u001b[0m\u001b[1;39;49m]\u001b[0m\u001b[39;49m A new release of pip available: \u001b[0m\u001b[31;49m22.2.2\u001b[0m\u001b[39;49m -> \u001b[0m\u001b[32;49m22.3.1\u001b[0m\n",
      "\u001b[1m[\u001b[0m\u001b[34;49mnotice\u001b[0m\u001b[1;39;49m]\u001b[0m\u001b[39;49m To update, run: \u001b[0m\u001b[32;49mpip install --upgrade pip\u001b[0m\n"
     ]
    }
   ],
   "source": [
    "!pip install git+https://github.com/nficano/pytube.git"
   ]
  },
  {
   "cell_type": "code",
   "execution_count": 1,
   "id": "1e97e7f4-5f45-42e7-8e9f-cbd3d2d839e3",
   "metadata": {},
   "outputs": [
    {
     "name": "stderr",
     "output_type": "stream",
     "text": [
      "Using custom data configuration jamescalam--channel-metadata-aff92ebb7b012696\n",
      "Reusing dataset json (/Users/jamesbriggs/.cache/huggingface/datasets/jamescalam___json/jamescalam--channel-metadata-aff92ebb7b012696/0.0.0/ac0ca5f5289a6cf108e706efcf040422dbbfa8e658dee6a819f20d76bb84d26b)\n"
     ]
    },
    {
     "data": {
      "text/plain": [
       "Dataset({\n",
       "    features: ['Video ID', 'Channel ID', 'Title', 'Time Created', 'Time Published', 'Duration', 'Description', 'Category', 'Like Count', 'Dislike Count'],\n",
       "    num_rows: 222\n",
       "})"
      ]
     },
     "execution_count": 1,
     "metadata": {},
     "output_type": "execute_result"
    }
   ],
   "source": [
    "from datasets import load_dataset\n",
    "\n",
    "meta = load_dataset(\n",
    "\t\t\"jamescalam/channel-metadata\",\n",
    "\t\tsplit=\"train\",\n",
    "  \trevision=\"9614cf8\"\n",
    ")\n",
    "meta"
   ]
  },
  {
   "cell_type": "code",
   "execution_count": 5,
   "id": "bf1c8aa6",
   "metadata": {},
   "outputs": [
    {
     "data": {
      "text/html": [
       "<div>\n",
       "<style scoped>\n",
       "    .dataframe tbody tr th:only-of-type {\n",
       "        vertical-align: middle;\n",
       "    }\n",
       "\n",
       "    .dataframe tbody tr th {\n",
       "        vertical-align: top;\n",
       "    }\n",
       "\n",
       "    .dataframe thead th {\n",
       "        text-align: right;\n",
       "    }\n",
       "</style>\n",
       "<table border=\"1\" class=\"dataframe\">\n",
       "  <thead>\n",
       "    <tr style=\"text-align: right;\">\n",
       "      <th></th>\n",
       "      <th>Video ID</th>\n",
       "    </tr>\n",
       "  </thead>\n",
       "  <tbody>\n",
       "    <tr>\n",
       "      <th>0</th>\n",
       "      <td>fTj6z6Cok0Q</td>\n",
       "    </tr>\n",
       "    <tr>\n",
       "      <th>1</th>\n",
       "      <td>ApxYFGGgbgk</td>\n",
       "    </tr>\n",
       "    <tr>\n",
       "      <th>2</th>\n",
       "      <td>cyyO7dSJajo</td>\n",
       "    </tr>\n",
       "    <tr>\n",
       "      <th>3</th>\n",
       "      <td>3kTSDUXTJpU</td>\n",
       "    </tr>\n",
       "  </tbody>\n",
       "</table>\n",
       "</div>"
      ],
      "text/plain": [
       "      Video ID\n",
       "0  fTj6z6Cok0Q\n",
       "1  ApxYFGGgbgk\n",
       "2  cyyO7dSJajo\n",
       "3  3kTSDUXTJpU"
      ]
     },
     "execution_count": 5,
     "metadata": {},
     "output_type": "execute_result"
    }
   ],
   "source": [
    "# Import pandas library\n",
    "import pandas as pd\n",
    "  \n",
    "# initialize list elements\n",
    "data = ['fTj6z6Cok0Q','ApxYFGGgbgk','cyyO7dSJajo','3kTSDUXTJpU']\n",
    "  \n",
    "# Create the pandas DataFrame with column name is provided explicitly\n",
    "meta = pd.DataFrame(data, columns=['Video ID'])\n",
    "  \n",
    "# print dataframe.\n",
    "meta"
   ]
  },
  {
   "cell_type": "code",
   "execution_count": 11,
   "id": "fb1a0345",
   "metadata": {},
   "outputs": [
    {
     "name": "stdout",
     "output_type": "stream",
     "text": [
      "fTj6z6Cok0Q\n",
      "ApxYFGGgbgk\n",
      "cyyO7dSJajo\n",
      "3kTSDUXTJpU\n"
     ]
    }
   ],
   "source": [
    "for index, row in meta.iterrows():\n",
    "  print(row['Video ID'])      "
   ]
  },
  {
   "cell_type": "code",
   "execution_count": 12,
   "id": "89748b36-c109-4a85-b410-dd6cd3aa40fd",
   "metadata": {},
   "outputs": [],
   "source": [
    "from pytube import YouTube  # !pip install pytube\n",
    "from pytube.exceptions import RegexMatchError\n",
    "from tqdm.auto import tqdm  # !pip install tqdm\n",
    "\n",
    "# where to save\n",
    "save_path = \"./mp3\"\n",
    "\n",
    "for index, row in meta.iterrows():\n",
    "    # url of video to be downloaded\n",
    "    url = f\"https://youtu.be/{row['Video ID']}\"\n",
    "\n",
    "    # try to create a YouTube vid object\n",
    "    try:\n",
    "        yt = YouTube(url)\n",
    "    except RegexMatchError:\n",
    "        print(f\"RegexMatchError for '{url}'\")\n",
    "        continue\n",
    "\n",
    "    itag = None\n",
    "    # we only want audio files\n",
    "    files = yt.streams.filter(only_audio=True)\n",
    "    for file in files:\n",
    "        # and of those audio files we grab the first audio for mp4 (eg mp3)\n",
    "        if file.mime_type == 'audio/mp4':\n",
    "            itag = file.itag\n",
    "            break\n",
    "    if itag is None:\n",
    "        # just incase no MP3 audio is found (shouldn't happen)\n",
    "        print(\"NO MP3 AUDIO FOUND\")\n",
    "        continue\n",
    "\n",
    "    # get the correct mp3 'stream'\n",
    "    stream = yt.streams.get_by_itag(itag)\n",
    "    # downloading the audio\n",
    "    stream.download(output_path=save_path, filename=f\"{row['Video ID']}.mp3\")"
   ]
  },
  {
   "cell_type": "markdown",
   "id": "aa882291-ba6a-4335-b2a2-68b4c2f745df",
   "metadata": {},
   "source": [
    "---"
   ]
  }
 ],
 "metadata": {
  "environment": {
   "kernel": "python3",
   "name": "common-cu110.m95",
   "type": "gcloud",
   "uri": "gcr.io/deeplearning-platform-release/base-cu110:m95"
  },
  "kernelspec": {
   "display_name": "Python 3",
   "language": "python",
   "name": "python3"
  },
  "language_info": {
   "codemirror_mode": {
    "name": "ipython",
    "version": 3
   },
   "file_extension": ".py",
   "mimetype": "text/x-python",
   "name": "python",
   "nbconvert_exporter": "python",
   "pygments_lexer": "ipython3",
   "version": "3.8.13"
  },
  "vscode": {
   "interpreter": {
    "hash": "9ac03a0a6051494cc606d484d27d20fce22fb7b4d169f583271e11d5ba46a56e"
   }
  }
 },
 "nbformat": 4,
 "nbformat_minor": 5
}
